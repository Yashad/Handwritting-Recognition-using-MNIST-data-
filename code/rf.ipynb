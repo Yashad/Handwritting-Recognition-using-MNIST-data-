{
 "cells": [
  {
   "cell_type": "code",
   "execution_count": 1,
   "metadata": {},
   "outputs": [
    {
     "name": "stdout",
     "output_type": "stream",
     "text": [
      "(60000, 784)\n",
      "(60000,)\n",
      "(10000, 784)\n",
      "(10000,)\n",
      "Training\n"
     ]
    },
    {
     "name": "stderr",
     "output_type": "stream",
     "text": [
      "[Parallel(n_jobs=1)]: Using backend SequentialBackend with 1 concurrent workers.\n",
      "[Parallel(n_jobs=1)]: Done  15 out of  15 | elapsed:   29.1s finished\n",
      "[Parallel(n_jobs=1)]: Using backend SequentialBackend with 1 concurrent workers.\n",
      "[Parallel(n_jobs=1)]: Done  15 out of  15 | elapsed:    0.2s finished\n",
      "[Parallel(n_jobs=1)]: Using backend SequentialBackend with 1 concurrent workers.\n"
     ]
    },
    {
     "name": "stdout",
     "output_type": "stream",
     "text": [
      "Score =  0.955\n"
     ]
    },
    {
     "name": "stderr",
     "output_type": "stream",
     "text": [
      "[Parallel(n_jobs=1)]: Done  15 out of  15 | elapsed:    0.1s finished\n"
     ]
    }
   ],
   "source": [
    "import struct\n",
    "import numpy as np\n",
    "import os\n",
    "from sklearn.ensemble import RandomForestClassifier\n",
    "\n",
    "def loadMNIST( inputDataFile, dataLabelsFile ):\n",
    "    intType = np.dtype( 'int32' ).newbyteorder( '>' )\n",
    "    nMetaDataBytes = 4 * intType.itemsize\n",
    "    data = np.fromfile( inputDataFile, dtype = 'ubyte' )\n",
    "    magicBytes, nImages, width, height = np.frombuffer( data[:nMetaDataBytes].tobytes(), intType )\n",
    "    data = data[nMetaDataBytes:].astype( dtype = 'float32' ).reshape( [ nImages, width, height ] )\n",
    "    labels = np.fromfile( dataLabelsFile,dtype = 'ubyte' )[2 * intType.itemsize:]\n",
    "    return data, labels\n",
    "    \n",
    "\n",
    "x_train_file =  'C:\\\\Users\\\\Yashad\\\\Downloads\\\\Subjects\\\\nn\\\\HW2\\\\data\\\\train-images.idx3-ubyte'\n",
    "y_train_file =  'C:\\\\Users\\\\Yashad\\\\Downloads\\\\Subjects\\\\nn\\\\HW2\\\\data\\\\train-labels.idx1-ubyte' \n",
    "x_test_file =  'C:\\\\Users\\\\Yashad\\\\Downloads\\\\Subjects\\\\nn\\\\HW2\\\\data\\\\t10k-images.idx3-ubyte'\n",
    "y_test_file =  'C:\\\\Users\\\\Yashad\\\\Downloads\\\\Subjects\\\\nn\\\\HW2\\\\data\\\\t10k-labels.idx1-ubyte'\n",
    "\n",
    "x_train,y_train = loadMNIST(x_train_file,y_train_file)\n",
    "\n",
    "x_test,y_test = loadMNIST(x_test_file,y_test_file)\n",
    "\n",
    "x_train = x_train.reshape((x_train.shape[0], x_train.shape[1]*x_train.shape[2]))\n",
    "x_test = x_test.reshape((x_test.shape[0], x_test.shape[1]*x_test.shape[2]))\n",
    "\n",
    "print(x_train.shape)\n",
    "print(y_train.shape)\n",
    "print(x_test.shape)\n",
    "print(y_test.shape)\n",
    "\n",
    "rfcl = RandomForestClassifier(n_estimators=15, random_state=0, verbose=1)\n",
    "\n",
    "print('Training')\n",
    "\n",
    "rfcl.fit(x_train, y_train)\n",
    "predictionOutput = rfcl.predict(x_test)\n",
    "\n",
    "array = np.zeros((predictionOutput.shape[0], 10))\n",
    "array[np.arange(predictionOutput.shape[0]), predictionOutput] = 1\n",
    "\n",
    "with open(\"rf.csv\", \"wb\") as f:\n",
    "    np.savetxt(f, array.astype(int), fmt='%i', delimiter=\",\")\n",
    "    \n",
    "score = rfcl.score(x_test, y_test)\n",
    "print('Score = ', score)"
   ]
  },
  {
   "cell_type": "code",
   "execution_count": null,
   "metadata": {},
   "outputs": [],
   "source": []
  }
 ],
 "metadata": {
  "kernelspec": {
   "display_name": "Python 3",
   "language": "python",
   "name": "python3"
  },
  "language_info": {
   "codemirror_mode": {
    "name": "ipython",
    "version": 3
   },
   "file_extension": ".py",
   "mimetype": "text/x-python",
   "name": "python",
   "nbconvert_exporter": "python",
   "pygments_lexer": "ipython3",
   "version": "3.7.1"
  }
 },
 "nbformat": 4,
 "nbformat_minor": 2
}
